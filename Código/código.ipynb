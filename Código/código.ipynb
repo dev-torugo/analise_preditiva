{
 "cells": [
  {
   "cell_type": "code",
   "execution_count": 4,
   "metadata": {},
   "outputs": [],
   "source": [
    "import pandas as pd\n",
    "import numpy as np\n",
    "import seaborn as sns\n",
    "import matplotlib.pyplot as plt\n",
    "from scipy.optimize import curve_fit\n",
    "\n",
    "from sklearn import datasets, linear_model\n",
    "from sklearn.preprocessing import PolynomialFeatures\n",
    "from sklearn.linear_model import LinearRegression\n",
    "\n",
    "from sklearn.tree import DecisionTreeClassifier\n",
    "from sklearn.model_selection import train_test_split"
   ]
  },
  {
   "cell_type": "code",
   "execution_count": 5,
   "metadata": {},
   "outputs": [
    {
     "ename": "AttributeError",
     "evalue": "'ExcelFile' object has no attribute 'header'",
     "output_type": "error",
     "traceback": [
      "\u001b[0;31m---------------------------------------------------------------------------\u001b[0m",
      "\u001b[0;31mAttributeError\u001b[0m                            Traceback (most recent call last)",
      "\u001b[1;32m/Users/victorhugo/Documents/Python/analise_preditiva/Código/código.ipynb Célula: 2\u001b[0m in \u001b[0;36m<module>\u001b[0;34m\u001b[0m\n\u001b[1;32m      <a href='vscode-notebook-cell:/Users/victorhugo/Documents/Python/analise_preditiva/C%C3%B3digo/c%C3%B3digo.ipynb#W4sZmlsZQ%3D%3D?line=0'>1</a>\u001b[0m base_de_dados \u001b[39m=\u001b[39m pd\u001b[39m.\u001b[39mExcelFile(\u001b[39m\"\u001b[39m\u001b[39mdatabase.xlsx\u001b[39m\u001b[39m\"\u001b[39m)\n\u001b[0;32m----> <a href='vscode-notebook-cell:/Users/victorhugo/Documents/Python/analise_preditiva/C%C3%B3digo/c%C3%B3digo.ipynb#W4sZmlsZQ%3D%3D?line=1'>2</a>\u001b[0m base_de_dados\u001b[39m.\u001b[39;49mheader()\n",
      "\u001b[0;31mAttributeError\u001b[0m: 'ExcelFile' object has no attribute 'header'"
     ]
    }
   ],
   "source": [
    "base_dados = pd.ExcelFile(\"Base_de_Dados.xlsx\")\n",
    "dados_selecionados = pd.read_excel(base_dados, \"Dados_SNIS_Norte_selecionados\")\n",
    "projecao_populacional = pd.read_excel(base_dados, \"Projecao_Pop_Geo\")\n",
    "#dados_selecionados.head() #verify\n",
    "#projecao_populacional.head() #verify\n"
   ]
  },
  {
   "cell_type": "code",
   "execution_count": null,
   "metadata": {},
   "outputs": [],
   "source": [
    "                                                            # tratamento dos dados selecionados\n",
    "#dados_selecionados.columns\n",
    "#dados_selecionados.shap\n",
    "dados_selecionados.describe()\n"
   ]
  },
  {
   "cell_type": "code",
   "execution_count": null,
   "metadata": {},
   "outputs": [],
   "source": [
    "\n",
    "from numpy import poly1d\n",
    "from sklearn.pipeline import Pipeline\n",
    "model = Pipeline([('poly', PolynomialFeatures(degree=1)),\n",
    "                   ('linear', LinearRegression(fit_intercept=False))])\n",
    "\n",
    "pop = np.array([44657,46306,46624,46654,46950,47236,48974,49293,49600,49891,50168,49942,49979]) #bocaiuvas\n",
    "iu = np.array([83.75,83.46,83.43,83.49,83.71,83.62,80.86,81.35,81.05,82.98,82.72,83.1,91.78])\n",
    "pop_tot_atd = np.array([37400,38646,38900,38950,39300,39500,39600,40100,40200,41400,41500,41500,45870])\n",
    "pop_urb_total = np.array([34999,36291,36541,36600,36832,37057,38420,38670,38911,39139,39357,39179,39208])\n",
    "pop_urb_atd = np.array([35000,36246,36500,36500,36800,37000,38000,38400,38800,39100,39200,39100,39150]) #bocaiuvas\n",
    "ano = np.array([2007,2008,2009,2010,2011,2012,2013,2014,2015,2016,2017,2018,2019])\n",
    "\n",
    "y = ano.reshape(-1,1)\n",
    "x = pop_tot_atd.reshape(-1,1)\n",
    "\n",
    "\n",
    "x_train, x_test, y_train, y_test = train_test_split(x, y)\n",
    "\n",
    "plt.scatter(x_train,y_train)\n",
    "plt.show()\n",
    "\n",
    "model = model.fit(x_train, y_train)\n",
    "coef = model.named_steps['linear'].coef_\n",
    "\n",
    "\n",
    "model = model.fit(x_train, y_train)\n",
    "print(coef)\n",
    "plt.scatter(x_test,y_test)\n",
    "plt.show()\n",
    "\n",
    "ano = np.array([46026])\n",
    "ano = ano.reshape(1,-1)\n",
    "\n",
    "print(model.predict(ano))\n",
    "\n",
    "plt.plot(x_test, model.predict(x_test), color='blue', linewidth=3)\n",
    "\n",
    "\n",
    "plt.scatter(x_test, y_test,  color='black')\n",
    "plt.plot(x_test, model.predict(x_test), color='blue', linewidth=3)\n",
    "  \n",
    "plt.xticks(())\n",
    "plt.yticks(())\n",
    "  \n",
    "plt.show()"
   ]
  }
 ],
 "metadata": {
  "kernelspec": {
   "display_name": "Python 3.8.9 64-bit",
   "language": "python",
   "name": "python3"
  },
  "language_info": {
   "codemirror_mode": {
    "name": "ipython",
    "version": 3
   },
   "file_extension": ".py",
   "mimetype": "text/x-python",
   "name": "python",
   "nbconvert_exporter": "python",
   "pygments_lexer": "ipython3",
   "version": "3.8.9"
  },
  "orig_nbformat": 4,
  "vscode": {
   "interpreter": {
    "hash": "31f2aee4e71d21fbe5cf8b01ff0e069b9275f58929596ceb00d14d90e3e16cd6"
   }
  }
 },
 "nbformat": 4,
 "nbformat_minor": 2
}
