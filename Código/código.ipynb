{
 "cells": [
  {
   "cell_type": "code",
   "execution_count": 187,
   "metadata": {},
   "outputs": [],
   "source": [
    "import pandas as pd\n",
    "import numpy as np\n",
    "import seaborn as sns\n",
    "import matplotlib.pyplot as plt\n",
    "from scipy.optimize import curve_fit\n",
    "\n",
    "from sklearn import datasets, linear_model\n",
    "from sklearn.preprocessing import PolynomialFeatures\n",
    "from sklearn.linear_model import LinearRegression\n",
    "\n",
    "from sklearn.tree import DecisionTreeClassifier\n",
    "from sklearn.model_selection import train_test_split"
   ]
  },
  {
   "cell_type": "code",
   "execution_count": 5,
   "metadata": {},
   "outputs": [],
   "source": [
    "base_dados = pd.ExcelFile(\"Base_de_Dados.xlsx\")\n",
    "dados_selecionados = pd.read_excel(base_dados, \"Dados_SNIS_Norte_selecionados\")\n",
    "projecao_populacional = pd.read_excel(base_dados, \"Projecao_Pop_Geo\")\n",
    "#dados_selecionados.head() #verify\n",
    "#projecao_populacional.head() #verify \n"
   ]
  },
  {
   "cell_type": "code",
   "execution_count": 12,
   "metadata": {},
   "outputs": [
    {
     "data": {
      "text/html": [
       "<div>\n",
       "<style scoped>\n",
       "    .dataframe tbody tr th:only-of-type {\n",
       "        vertical-align: middle;\n",
       "    }\n",
       "\n",
       "    .dataframe tbody tr th {\n",
       "        vertical-align: top;\n",
       "    }\n",
       "\n",
       "    .dataframe thead th {\n",
       "        text-align: right;\n",
       "    }\n",
       "</style>\n",
       "<table border=\"1\" class=\"dataframe\">\n",
       "  <thead>\n",
       "    <tr style=\"text-align: right;\">\n",
       "      <th></th>\n",
       "      <th>Código do Município</th>\n",
       "      <th>Ano de Referência</th>\n",
       "      <th>POP_TOT - População total do município do ano de referência (Fonte: IBGE):</th>\n",
       "      <th>POP_URB - População urbana do município do ano de referência (Fonte: IBGE):</th>\n",
       "      <th>AG001 - População total atendida com abastecimento de água</th>\n",
       "      <th>AG026 - População urbana atendida com abastecimento de água</th>\n",
       "      <th>IN023_AE - Índice de atendimento urbano de água</th>\n",
       "      <th>IN055_AE - Índice de atendimento total de água</th>\n",
       "    </tr>\n",
       "  </thead>\n",
       "  <tbody>\n",
       "    <tr>\n",
       "      <th>count</th>\n",
       "      <td>1064.000000</td>\n",
       "      <td>1064.000000</td>\n",
       "      <td>1064.000000</td>\n",
       "      <td>1064.000000</td>\n",
       "      <td>1064.000000</td>\n",
       "      <td>1064.000000</td>\n",
       "      <td>1064.000000</td>\n",
       "      <td>1064.000000</td>\n",
       "    </tr>\n",
       "    <tr>\n",
       "      <th>mean</th>\n",
       "      <td>313974.723684</td>\n",
       "      <td>2013.500000</td>\n",
       "      <td>20429.741541</td>\n",
       "      <td>14293.860902</td>\n",
       "      <td>14004.211466</td>\n",
       "      <td>13836.985902</td>\n",
       "      <td>94.962218</td>\n",
       "      <td>54.398976</td>\n",
       "    </tr>\n",
       "    <tr>\n",
       "      <th>std</th>\n",
       "      <td>1863.242384</td>\n",
       "      <td>4.033025</td>\n",
       "      <td>44600.338527</td>\n",
       "      <td>42263.560519</td>\n",
       "      <td>40586.811248</td>\n",
       "      <td>40540.433318</td>\n",
       "      <td>8.135646</td>\n",
       "      <td>19.646263</td>\n",
       "    </tr>\n",
       "    <tr>\n",
       "      <th>min</th>\n",
       "      <td>310100.000000</td>\n",
       "      <td>2007.000000</td>\n",
       "      <td>2932.000000</td>\n",
       "      <td>842.000000</td>\n",
       "      <td>961.000000</td>\n",
       "      <td>961.000000</td>\n",
       "      <td>50.600000</td>\n",
       "      <td>17.190000</td>\n",
       "    </tr>\n",
       "    <tr>\n",
       "      <th>25%</th>\n",
       "      <td>312716.250000</td>\n",
       "      <td>2010.000000</td>\n",
       "      <td>6075.500000</td>\n",
       "      <td>2654.500000</td>\n",
       "      <td>2672.250000</td>\n",
       "      <td>2622.250000</td>\n",
       "      <td>90.575000</td>\n",
       "      <td>39.050000</td>\n",
       "    </tr>\n",
       "    <tr>\n",
       "      <th>50%</th>\n",
       "      <td>313899.000000</td>\n",
       "      <td>2013.500000</td>\n",
       "      <td>8848.000000</td>\n",
       "      <td>5135.500000</td>\n",
       "      <td>4808.000000</td>\n",
       "      <td>4637.500000</td>\n",
       "      <td>100.000000</td>\n",
       "      <td>53.820000</td>\n",
       "    </tr>\n",
       "    <tr>\n",
       "      <th>75%</th>\n",
       "      <td>315477.500000</td>\n",
       "      <td>2017.000000</td>\n",
       "      <td>19628.750000</td>\n",
       "      <td>10963.750000</td>\n",
       "      <td>10640.500000</td>\n",
       "      <td>10640.500000</td>\n",
       "      <td>100.000000</td>\n",
       "      <td>66.977500</td>\n",
       "    </tr>\n",
       "    <tr>\n",
       "      <th>max</th>\n",
       "      <td>317103.000000</td>\n",
       "      <td>2020.000000</td>\n",
       "      <td>413487.000000</td>\n",
       "      <td>393507.000000</td>\n",
       "      <td>373816.000000</td>\n",
       "      <td>373816.000000</td>\n",
       "      <td>100.000000</td>\n",
       "      <td>100.000000</td>\n",
       "    </tr>\n",
       "  </tbody>\n",
       "</table>\n",
       "</div>"
      ],
      "text/plain": [
       "       Código do Município  Ano de Referência  \\\n",
       "count          1064.000000        1064.000000   \n",
       "mean         313974.723684        2013.500000   \n",
       "std            1863.242384           4.033025   \n",
       "min          310100.000000        2007.000000   \n",
       "25%          312716.250000        2010.000000   \n",
       "50%          313899.000000        2013.500000   \n",
       "75%          315477.500000        2017.000000   \n",
       "max          317103.000000        2020.000000   \n",
       "\n",
       "       POP_TOT - População total do município do ano de referência (Fonte: IBGE):  \\\n",
       "count                                        1064.000000                            \n",
       "mean                                        20429.741541                            \n",
       "std                                         44600.338527                            \n",
       "min                                          2932.000000                            \n",
       "25%                                          6075.500000                            \n",
       "50%                                          8848.000000                            \n",
       "75%                                         19628.750000                            \n",
       "max                                        413487.000000                            \n",
       "\n",
       "       POP_URB - População urbana do município do ano de referência (Fonte: IBGE):  \\\n",
       "count                                        1064.000000                             \n",
       "mean                                        14293.860902                             \n",
       "std                                         42263.560519                             \n",
       "min                                           842.000000                             \n",
       "25%                                          2654.500000                             \n",
       "50%                                          5135.500000                             \n",
       "75%                                         10963.750000                             \n",
       "max                                        393507.000000                             \n",
       "\n",
       "       AG001 - População total atendida com abastecimento de água  \\\n",
       "count                                        1064.000000            \n",
       "mean                                        14004.211466            \n",
       "std                                         40586.811248            \n",
       "min                                           961.000000            \n",
       "25%                                          2672.250000            \n",
       "50%                                          4808.000000            \n",
       "75%                                         10640.500000            \n",
       "max                                        373816.000000            \n",
       "\n",
       "       AG026 - População urbana atendida com abastecimento de água  \\\n",
       "count                                        1064.000000             \n",
       "mean                                        13836.985902             \n",
       "std                                         40540.433318             \n",
       "min                                           961.000000             \n",
       "25%                                          2622.250000             \n",
       "50%                                          4637.500000             \n",
       "75%                                         10640.500000             \n",
       "max                                        373816.000000             \n",
       "\n",
       "       IN023_AE - Índice de atendimento urbano de água  \\\n",
       "count                                      1064.000000   \n",
       "mean                                         94.962218   \n",
       "std                                           8.135646   \n",
       "min                                          50.600000   \n",
       "25%                                          90.575000   \n",
       "50%                                         100.000000   \n",
       "75%                                         100.000000   \n",
       "max                                         100.000000   \n",
       "\n",
       "       IN055_AE - Índice de atendimento total de água  \n",
       "count                                     1064.000000  \n",
       "mean                                        54.398976  \n",
       "std                                         19.646263  \n",
       "min                                         17.190000  \n",
       "25%                                         39.050000  \n",
       "50%                                         53.820000  \n",
       "75%                                         66.977500  \n",
       "max                                        100.000000  "
      ]
     },
     "execution_count": 12,
     "metadata": {},
     "output_type": "execute_result"
    }
   ],
   "source": [
    "                                                            # tratamento dos dados selecionados\n",
    "#dados_selecionados.columns\n",
    "#dados_selecionados.shap\n",
    "dados_selecionados.describe()\n"
   ]
  },
  {
   "cell_type": "code",
   "execution_count": 203,
   "metadata": {},
   "outputs": [
    {
     "data": {
      "image/png": "[encoded data removed]",
      "text/plain": [
       "<Figure size 432x288 with 1 Axes>"
      ]
     },
     "metadata": {
      "needs_background": "light"
     },
     "output_type": "display_data"
    },
    {
     "name": "stdout",
     "output_type": "stream",
     "text": [
      "[[-9.93259815e+05  5.13425926e+02]]\n"
     ]
    },
    {
     "data": {
      "image/png": "[encoded data removed]",
      "text/plain": [
       "<Figure size 432x288 with 1 Axes>"
      ]
     },
     "metadata": {
      "needs_background": "light"
     },
     "output_type": "display_data"
    },
    {
     "name": "stdout",
     "output_type": "stream",
     "text": [
      "[[43860.55555556]]\n"
     ]
    },
    {
     "ename": "ValueError",
     "evalue": "x and y must have same first dimension, but have shapes (4, 1) and (13, 1)",
     "output_type": "error",
     "traceback": [
      "\u001b[0;31m---------------------------------------------------------------------------\u001b[0m",
      "\u001b[0;31mValueError\u001b[0m                                Traceback (most recent call last)",
      "\u001b[1;32m/Users/victorhugo/Documents/Python/analise_preditiva/Código/Untitled-1.ipynb Célula: 5\u001b[0m in \u001b[0;36m<module>\u001b[0;34m\u001b[0m\n\u001b[1;32m     <a href='vscode-notebook-cell:/Users/victorhugo/Documents/Python/analise_preditiva/C%C3%B3digo/Untitled-1.ipynb#W3sZmlsZQ%3D%3D?line=35'>36</a>\u001b[0m plt\u001b[39m.\u001b[39mplot(x_test, model\u001b[39m.\u001b[39mpredict(x_test), color\u001b[39m=\u001b[39m\u001b[39m'\u001b[39m\u001b[39mblue\u001b[39m\u001b[39m'\u001b[39m, linewidth\u001b[39m=\u001b[39m\u001b[39m3\u001b[39m)\n\u001b[1;32m     <a href='vscode-notebook-cell:/Users/victorhugo/Documents/Python/analise_preditiva/C%C3%B3digo/Untitled-1.ipynb#W3sZmlsZQ%3D%3D?line=38'>39</a>\u001b[0m plt\u001b[39m.\u001b[39mscatter(x_test, y_test,  color\u001b[39m=\u001b[39m\u001b[39m'\u001b[39m\u001b[39mblack\u001b[39m\u001b[39m'\u001b[39m)\n\u001b[0;32m---> <a href='vscode-notebook-cell:/Users/victorhugo/Documents/Python/analise_preditiva/C%C3%B3digo/Untitled-1.ipynb#W3sZmlsZQ%3D%3D?line=39'>40</a>\u001b[0m plt\u001b[39m.\u001b[39;49mplot(x_test, y, color\u001b[39m=\u001b[39;49m\u001b[39m'\u001b[39;49m\u001b[39mblue\u001b[39;49m\u001b[39m'\u001b[39;49m, linewidth\u001b[39m=\u001b[39;49m\u001b[39m3\u001b[39;49m)\n\u001b[1;32m     <a href='vscode-notebook-cell:/Users/victorhugo/Documents/Python/analise_preditiva/C%C3%B3digo/Untitled-1.ipynb#W3sZmlsZQ%3D%3D?line=41'>42</a>\u001b[0m plt\u001b[39m.\u001b[39mxticks(())\n\u001b[1;32m     <a href='vscode-notebook-cell:/Users/victorhugo/Documents/Python/analise_preditiva/C%C3%B3digo/Untitled-1.ipynb#W3sZmlsZQ%3D%3D?line=42'>43</a>\u001b[0m plt\u001b[39m.\u001b[39myticks(())\n",
      "File \u001b[0;32m~/Library/Python/3.8/lib/python/site-packages/matplotlib/pyplot.py:2769\u001b[0m, in \u001b[0;36mplot\u001b[0;34m(scalex, scaley, data, *args, **kwargs)\u001b[0m\n\u001b[1;32m   2767\u001b[0m \u001b[39m@_copy_docstring_and_deprecators\u001b[39m(Axes\u001b[39m.\u001b[39mplot)\n\u001b[1;32m   2768\u001b[0m \u001b[39mdef\u001b[39;00m \u001b[39mplot\u001b[39m(\u001b[39m*\u001b[39margs, scalex\u001b[39m=\u001b[39m\u001b[39mTrue\u001b[39;00m, scaley\u001b[39m=\u001b[39m\u001b[39mTrue\u001b[39;00m, data\u001b[39m=\u001b[39m\u001b[39mNone\u001b[39;00m, \u001b[39m*\u001b[39m\u001b[39m*\u001b[39mkwargs):\n\u001b[0;32m-> 2769\u001b[0m     \u001b[39mreturn\u001b[39;00m gca()\u001b[39m.\u001b[39;49mplot(\n\u001b[1;32m   2770\u001b[0m         \u001b[39m*\u001b[39;49margs, scalex\u001b[39m=\u001b[39;49mscalex, scaley\u001b[39m=\u001b[39;49mscaley,\n\u001b[1;32m   2771\u001b[0m         \u001b[39m*\u001b[39;49m\u001b[39m*\u001b[39;49m({\u001b[39m\"\u001b[39;49m\u001b[39mdata\u001b[39;49m\u001b[39m\"\u001b[39;49m: data} \u001b[39mif\u001b[39;49;00m data \u001b[39mis\u001b[39;49;00m \u001b[39mnot\u001b[39;49;00m \u001b[39mNone\u001b[39;49;00m \u001b[39melse\u001b[39;49;00m {}), \u001b[39m*\u001b[39;49m\u001b[39m*\u001b[39;49mkwargs)\n",
      "File \u001b[0;32m~/Library/Python/3.8/lib/python/site-packages/matplotlib/axes/_axes.py:1632\u001b[0m, in \u001b[0;36mAxes.plot\u001b[0;34m(self, scalex, scaley, data, *args, **kwargs)\u001b[0m\n\u001b[1;32m   1390\u001b[0m \u001b[39m\"\"\"\u001b[39;00m\n\u001b[1;32m   1391\u001b[0m \u001b[39mPlot y versus x as lines and/or markers.\u001b[39;00m\n\u001b[1;32m   1392\u001b[0m \n\u001b[0;32m   (...)\u001b[0m\n\u001b[1;32m   1629\u001b[0m \u001b[39m(``'green'``) or hex strings (``'#008000'``).\u001b[39;00m\n\u001b[1;32m   1630\u001b[0m \u001b[39m\"\"\"\u001b[39;00m\n\u001b[1;32m   1631\u001b[0m kwargs \u001b[39m=\u001b[39m cbook\u001b[39m.\u001b[39mnormalize_kwargs(kwargs, mlines\u001b[39m.\u001b[39mLine2D)\n\u001b[0;32m-> 1632\u001b[0m lines \u001b[39m=\u001b[39m [\u001b[39m*\u001b[39m\u001b[39mself\u001b[39m\u001b[39m.\u001b[39m_get_lines(\u001b[39m*\u001b[39margs, data\u001b[39m=\u001b[39mdata, \u001b[39m*\u001b[39m\u001b[39m*\u001b[39mkwargs)]\n\u001b[1;32m   1633\u001b[0m \u001b[39mfor\u001b[39;00m line \u001b[39min\u001b[39;00m lines:\n\u001b[1;32m   1634\u001b[0m     \u001b[39mself\u001b[39m\u001b[39m.\u001b[39madd_line(line)\n",
      "File \u001b[0;32m~/Library/Python/3.8/lib/python/site-packages/matplotlib/axes/_base.py:312\u001b[0m, in \u001b[0;36m_process_plot_var_args.__call__\u001b[0;34m(self, data, *args, **kwargs)\u001b[0m\n\u001b[1;32m    310\u001b[0m     this \u001b[39m+\u001b[39m\u001b[39m=\u001b[39m args[\u001b[39m0\u001b[39m],\n\u001b[1;32m    311\u001b[0m     args \u001b[39m=\u001b[39m args[\u001b[39m1\u001b[39m:]\n\u001b[0;32m--> 312\u001b[0m \u001b[39myield from\u001b[39;00m \u001b[39mself\u001b[39;49m\u001b[39m.\u001b[39;49m_plot_args(this, kwargs)\n",
      "File \u001b[0;32m~/Library/Python/3.8/lib/python/site-packages/matplotlib/axes/_base.py:498\u001b[0m, in \u001b[0;36m_process_plot_var_args._plot_args\u001b[0;34m(self, tup, kwargs, return_kwargs)\u001b[0m\n\u001b[1;32m    495\u001b[0m     \u001b[39mself\u001b[39m\u001b[39m.\u001b[39maxes\u001b[39m.\u001b[39myaxis\u001b[39m.\u001b[39mupdate_units(y)\n\u001b[1;32m    497\u001b[0m \u001b[39mif\u001b[39;00m x\u001b[39m.\u001b[39mshape[\u001b[39m0\u001b[39m] \u001b[39m!=\u001b[39m y\u001b[39m.\u001b[39mshape[\u001b[39m0\u001b[39m]:\n\u001b[0;32m--> 498\u001b[0m     \u001b[39mraise\u001b[39;00m \u001b[39mValueError\u001b[39;00m(\u001b[39mf\u001b[39m\u001b[39m\"\u001b[39m\u001b[39mx and y must have same first dimension, but \u001b[39m\u001b[39m\"\u001b[39m\n\u001b[1;32m    499\u001b[0m                      \u001b[39mf\u001b[39m\u001b[39m\"\u001b[39m\u001b[39mhave shapes \u001b[39m\u001b[39m{\u001b[39;00mx\u001b[39m.\u001b[39mshape\u001b[39m}\u001b[39;00m\u001b[39m and \u001b[39m\u001b[39m{\u001b[39;00my\u001b[39m.\u001b[39mshape\u001b[39m}\u001b[39;00m\u001b[39m\"\u001b[39m)\n\u001b[1;32m    500\u001b[0m \u001b[39mif\u001b[39;00m x\u001b[39m.\u001b[39mndim \u001b[39m>\u001b[39m \u001b[39m2\u001b[39m \u001b[39mor\u001b[39;00m y\u001b[39m.\u001b[39mndim \u001b[39m>\u001b[39m \u001b[39m2\u001b[39m:\n\u001b[1;32m    501\u001b[0m     \u001b[39mraise\u001b[39;00m \u001b[39mValueError\u001b[39;00m(\u001b[39mf\u001b[39m\u001b[39m\"\u001b[39m\u001b[39mx and y can be no greater than 2D, but have \u001b[39m\u001b[39m\"\u001b[39m\n\u001b[1;32m    502\u001b[0m                      \u001b[39mf\u001b[39m\u001b[39m\"\u001b[39m\u001b[39mshapes \u001b[39m\u001b[39m{\u001b[39;00mx\u001b[39m.\u001b[39mshape\u001b[39m}\u001b[39;00m\u001b[39m and \u001b[39m\u001b[39m{\u001b[39;00my\u001b[39m.\u001b[39mshape\u001b[39m}\u001b[39;00m\u001b[39m\"\u001b[39m)\n",
      "\u001b[0;31mValueError\u001b[0m: x and y must have same first dimension, but have shapes (4, 1) and (13, 1)"
     ]
    },
    {
     "data": {
      "image/png": "[encoded data removed]",
      "text/plain": [
       "<Figure size 432x288 with 1 Axes>"
      ]
     },
     "metadata": {
      "needs_background": "light"
     },
     "output_type": "display_data"
    }
   ],
   "source": [
    "\n",
    "from numpy import poly1d\n",
    "from sklearn.pipeline import Pipeline\n",
    "model = Pipeline([('poly', PolynomialFeatures(degree=1)),\n",
    "                   ('linear', LinearRegression(fit_intercept=False))])\n",
    "\n",
    "pop = np.array([44657,46306,46624,46654,46950,47236,48974,49293,49600,49891,50168,49942,49979]) #bocaiuvas\n",
    "iu = np.array([83.75,83.46,83.43,83.49,83.71,83.62,80.86,81.35,81.05,82.98,82.72,83.1,91.78])\n",
    "pop_tot_atd = np.array([37400,38646,38900,38950,39300,39500,39600,40100,40200,41400,41500,41500,45870])\n",
    "pop_urb_total = np.array([34999,36291,36541,36600,36832,37057,38420,38670,38911,39139,39357,39179,39208])\n",
    "pop_urb_atd = np.array([35000,36246,36500,36500,36800,37000,38000,38400,38800,39100,39200,39100,39150]) #bocaiuvas\n",
    "ano = np.array([2007,2008,2009,2010,2011,2012,2013,2014,2015,2016,2017,2018,2019])\n",
    "\n",
    "x = ano.reshape(-1,1)\n",
    "y = pop_tot_atd.reshape(-1,1)\n",
    "\n",
    "\n",
    "x_train, x_test, y_train, y_test = train_test_split(x, y)\n",
    "\n",
    "plt.scatter(x_train,y_train)\n",
    "plt.show()\n",
    "\n",
    "model = model.fit(x_train, y_train)\n",
    "coef = model.named_steps['linear'].coef_\n",
    "\n",
    "\n",
    "model = model.fit(x_train, y_train)\n",
    "print(coef)\n",
    "plt.scatter(x_test,y_test)\n",
    "plt.show()\n",
    "\n",
    "ano = np.array([2020])\n",
    "ano = ano.reshape(1,-1)\n",
    "\n",
    "print(model.predict(ano))\n",
    "\n",
    "plt.plot(x_test, model.predict(x_test), color='blue', linewidth=3)\n",
    "\n",
    "\n",
    "plt.scatter(x_test, y_test,  color='black')\n",
    "plt.plot(x_test, y, color='blue', linewidth=3)\n",
    "  \n",
    "plt.xticks(())\n",
    "plt.yticks(())\n",
    "  \n",
    "plt.show()"
   ]
  }
 ],
 "metadata": {
  "kernelspec": {
   "display_name": "Python 3.8.9 64-bit",
   "language": "python",
   "name": "python3"
  },
  "language_info": {
   "codemirror_mode": {
    "name": "ipython",
    "version": 3
   },
   "file_extension": ".py",
   "mimetype": "text/x-python",
   "name": "python",
   "nbconvert_exporter": "python",
   "pygments_lexer": "ipython3",
   "version": "3.8.9"
  },
  "orig_nbformat": 4,
  "vscode": {
   "interpreter": {
    "hash": "31f2aee4e71d21fbe5cf8b01ff0e069b9275f58929596ceb00d14d90e3e16cd6"
   }
  }
 },
 "nbformat": 4,
 "nbformat_minor": 2
}
